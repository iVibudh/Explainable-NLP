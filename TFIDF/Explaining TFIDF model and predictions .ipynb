{
 "cells": [
  {
   "cell_type": "markdown",
   "id": "cb90f196",
   "metadata": {},
   "source": [
    "# Explaining the TFIDF model with Shap"
   ]
  },
  {
   "cell_type": "markdown",
   "id": "987888aa",
   "metadata": {},
   "source": [
    "# 1. Introduction"
   ]
  },
  {
   "cell_type": "markdown",
   "id": "fcc4c328",
   "metadata": {},
   "source": [
    "This notebook focuses on understanding the TFIDF based classification algorithm. In this notebook we will try to understand the global explainability of the model and then further take some examples to understand the local explainability. \n",
    "\n",
    "### Model description \n",
    "For this demonstration we will be using the [IMDB dataset](https://www.kaggle.com/datasets/lakshmi25npathi/imdb-dataset-of-50k-movie-reviews?resource=download) open scource dataset. This dataset has 25,000 highly polar movie reviews for training and 25,000 for testing. We will be using sklearn's TfidfVectorizer and then we will be using sklearn's SelectKBest to get the top keywords. Further, we will be using Random Forest alghorithm to classify the model \n",
    "\n",
    "For creating the TFIDF vectorization we will be using the "
   ]
  },
  {
   "cell_type": "code",
   "execution_count": null,
   "id": "e7bc648e",
   "metadata": {},
   "outputs": [],
   "source": [
    "### About the data "
   ]
  }
 ],
 "metadata": {
  "kernelspec": {
   "display_name": "Python 3 (ipykernel)",
   "language": "python",
   "name": "python3"
  },
  "language_info": {
   "codemirror_mode": {
    "name": "ipython",
    "version": 3
   },
   "file_extension": ".py",
   "mimetype": "text/x-python",
   "name": "python",
   "nbconvert_exporter": "python",
   "pygments_lexer": "ipython3",
   "version": "3.9.12"
  }
 },
 "nbformat": 4,
 "nbformat_minor": 5
}
